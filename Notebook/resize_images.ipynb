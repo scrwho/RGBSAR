{
 "cells": [
  {
   "cell_type": "code",
   "execution_count": 4,
   "id": "93ed10bc-7e92-4f50-b40a-8b8cf1a31bd0",
   "metadata": {},
   "outputs": [
    {
     "name": "stdout",
     "output_type": "stream",
     "text": [
      "['FolderTree', 'IMREAD_COLOR', 'IMREAD_UNCHANGED', 'Image', 'ImageDataGenerator', 'ImageFile', 'ModelsListDiffFuntions', 'Path', 'Pool', 'PureWindowsPath', 'RMSprop', 'StringIO', 'WindowsPath', '__builtins__', '__doc__', '__file__', '__loader__', '__name__', '__package__', '__spec__', 'accuracy_score', 'add_path_to_sys', 'classification_report', 'compress_layers', 'confusion_matrix', 'copy_and_open', 'cpu_count', 'cv2', 'datetime', 'display', 'display_one', 'get_file_list', 'get_file_list_imgs', 'get_image_paths', 'get_ipython', 'glob', 'gridspec', 'hashlib', 'image', 'import_ipynb', 'io', 'jsonize', 'la', 'laplace', 'loadImages', 'lru_cache', 'nbimporter', 'np', 'os', 'pd', 'platform', 'plt', 'print_dim_tuple', 'print_layers', 'processing', 'product', 'pywt', 'random', 'random_sample', 're', 'requests', 'resize', 'rgb2gray', 'sep', 'sequential_model_to_ascii_printout', 'shutil', 'sklearn', 'sns', 'splitfolders', 'sporco', 'struct', 'subprocess', 'tf', 'time', 'torch', 'tqdm', 'train_test_split', 'unicode_literals', 'variance', 'warnings']\n",
      "['AbstractRNNCell', 'Activation', 'ActivityRegularization', 'Adam', 'Add', 'AdditiveAttention', 'AlphaDropout', 'Attention', 'Average', 'AveragePooling1D', 'AveragePooling2D', 'AveragePooling3D', 'AvgPool1D', 'AvgPool2D', 'AvgPool3D', 'BatchNormalization', 'Bidirectional', 'CategoryEncoding', 'CenterCrop', 'Concatenate', 'ConfusionMatrixDisplay', 'Conv1D', 'Conv1DTranspose', 'Conv2D', 'Conv2DTranspose', 'Conv3D', 'Conv3DTranspose', 'ConvLSTM1D', 'ConvLSTM2D', 'ConvLSTM3D', 'Convolution1D', 'Convolution1DTranspose', 'Convolution2D', 'Convolution2DTranspose', 'Convolution3D', 'Convolution3DTranspose', 'Cropping1D', 'Cropping2D', 'Cropping3D', 'Dense', 'DenseFeatures', 'DepthwiseConv1D', 'DepthwiseConv2D', 'DetCurveDisplay', 'Discretization', 'DistanceMetric', 'Dot', 'Dropout', 'ELU', 'EarlyStopping', 'EinsumDense', 'Embedding', 'EvaluateTest', 'FileTree', 'Flatten', 'FolderTree', 'GPUtil', 'GRU', 'GRUCell', 'GaussianDropout', 'GaussianNoise', 'GlobalAveragePooling1D', 'GlobalAveragePooling2D', 'GlobalAveragePooling3D', 'GlobalAvgPool1D', 'GlobalAvgPool2D', 'GlobalAvgPool3D', 'GlobalMaxPool1D', 'GlobalMaxPool2D', 'GlobalMaxPool3D', 'GlobalMaxPooling1D', 'GlobalMaxPooling2D', 'GlobalMaxPooling3D', 'Hashing', 'Image', 'ImageDataGenerator', 'ImageFont', 'InceptionResNetV2', 'InceptionV3', 'Input', 'InputLayer', 'InputSpec', 'IntegerLookup', 'K', 'LSTM', 'LSTMCell', 'LabelBinarizer', 'Lambda', 'Layer', 'LayerNormalization', 'LeakyReLU', 'LearningRateScheduler', 'List', 'LocallyConnected1D', 'LocallyConnected2D', 'Masking', 'MaxPool1D', 'MaxPool2D', 'MaxPool3D', 'MaxPooling1D', 'MaxPooling2D', 'MaxPooling3D', 'Maximum', 'Minimum', 'Model', 'ModelCheckpoint', 'MultiHeadAttention', 'Multiply', 'Normalization', 'PReLU', 'Path', 'Permute', 'PrecisionRecallDisplay', 'PredictionErrorDisplay', 'RMSprop', 'RNN', 'RandomBrightness', 'RandomContrast', 'RandomCrop', 'RandomFlip', 'RandomHeight', 'RandomRotation', 'RandomTranslation', 'RandomWidth', 'RandomZoom', 'ReLU', 'ReduceLROnPlateau', 'RepeatVector', 'ResNet101', 'ResNet50', 'Rescaling', 'Reshape', 'Resizing', 'RocCurveDisplay', 'SCORERS', 'SGD', 'SeparableConv1D', 'SeparableConv2D', 'SeparableConvolution1D', 'SeparableConvolution2D', 'Sequential', 'SimpleRNN', 'SimpleRNNCell', 'Softmax', 'SpatialDropout1D', 'SpatialDropout2D', 'SpatialDropout3D', 'StackedRNNCells', 'StringLookup', 'Subtract', 'TextVectorization', 'ThresholdedReLU', 'TimeDistributed', 'Tuple', 'UnitNormalization', 'UpSampling1D', 'UpSampling2D', 'UpSampling3D', 'VGG16', 'Wrapper', 'ZeroPadding1D', 'ZeroPadding2D', 'ZeroPadding3D', '__builtins__', '__doc__', '__file__', '__loader__', '__name__', '__package__', '__spec__', 'accuracy_score', 'add', 'adjusted_mutual_info_score', 'adjusted_rand_score', 'auc', 'average', 'average_precision_score', 'balanced_accuracy_score', 'block_2ConvPool', 'block_Res', 'block_Unconv', 'brier_score_loss', 'calculate_batch_size_steps_per_epoch_and_epochs', 'calculate_batch_size_steps_per_epoch_and_epochsb', 'calculate_steps_per_epoch_and_epochs', 'calinski_harabasz_score', 'checkHistory', 'check_scoring', 'class_likelihood_ratios', 'classification_report', 'cluster', 'cm', 'cohen_kappa_score', 'colorsys', 'combinations', 'completeness_score', 'concatenate', 'confusion_matrix', 'consensus_score', 'coverage_error', 'custom_model', 'custom_modelB', 'cv2', 'd2_absolute_error_score', 'd2_pinball_score', 'd2_tweedie_score', 'datetime', 'davies_bouldin_score', 'dcg_score', 'deserialize', 'det_curve', 'detect_faults', 'detect_faults1', 'detect_faults2', 'detect_faults3', 'detect_faults4', 'detect_faults_images', 'detect_faultsdf', 'detect_faultsdfTrue', 'detect_faultsdfalone', 'detect_faultsdfaloneb', 'display', 'dot', 'euclidean_distances', 'evaluate_models', 'evaluate_models1b', 'evaluate_modelsb', 'evaluate_modelsb2b', 'experimental', 'explained_variance_score', 'f1_score', 'fbeta_score', 'file_count', 'fowlkes_mallows_score', 'gc', 'generate_colors', 'generate_data', 'generate_training_params', 'getModelName', 'get_file_list', 'get_image_paths', 'get_intel_gpu_memory', 'get_ipython', 'get_nvidia_gpu_memory', 'get_random_samples', 'get_scorer', 'get_scorer_names', 'get_system_memory', 'get_tpu_memory', 'go', 'graphviz', 'gridspec', 'hamming_loss', 'hinge_loss', 'homogeneity_completeness_v_measure', 'homogeneity_score', 'image', 'img_to_array', 'itertools', 'jaccard_score', 'keras', 'keras2ascii', 'label_binarize', 'label_ranking_average_precision_score', 'label_ranking_loss', 'load_data_generator', 'load_img', 'load_model', 'log_loss', 'make_scorer', 'make_subplots', 'math', 'matthews_corrcoef', 'max_error', 'maximum', 'mean_absolute_error', 'mean_absolute_percentage_error', 'mean_gamma_deviance', 'mean_pinball_loss', 'mean_poisson_deviance', 'mean_squared_error', 'mean_squared_log_error', 'mean_tweedie_deviance', 'median_absolute_error', 'minimum', 'mixed_precision', 'mpatches', 'mpimg', 'multilabel_confusion_matrix', 'multiply', 'mutual_info_score', 'nan_euclidean_distances', 'nc', 'ndcg_score', 'netCDF4', 'normalized_mutual_info_score', 'np', 'optimizers', 'os', 'ossep', 'pair_confusion_matrix', 'pairwise_distances', 'pairwise_distances_argmin', 'pairwise_distances_argmin_min', 'pairwise_distances_chunked', 'pairwise_kernels', 'pd', 'pickle', 'platform', 'plot_confusion_matrix', 'plot_confusion_matrixN', 'plot_image_grid', 'plot_model', 'plot_probability_distribution_and_roc_curves_one_vs_rest', 'plot_training_history', 'plot_training_historyB', 'plt', 'precision_recall_curve', 'precision_recall_fscore_support', 'precision_score', 'predictBar', 'predictBarColor', 'psutil', 'pynvml', 'pytest', 'r2_score', 'rand_score', 'random', 'random_sample', 'recall_score', 'regularizers', 'roc_auc_score', 'roc_curve', 'sample_list', 'serialize', 'silhouette_samples', 'silhouette_score', 'sns', 'subprocess', 'subtract', 'sys', 'tensorboard', 'tf', 'time', 'to_Conv', 'to_ConvConvRelu', 'to_ConvRes', 'to_ConvSoftMax', 'to_Pool', 'to_SoftMax', 'to_Sum', 'to_UnPool', 'to_begin', 'to_categorical', 'to_connection', 'to_cor', 'to_end', 'to_generate', 'to_head', 'to_input', 'to_skip', 'top_k_accuracy_score', 'tqdm', 'train_test_split', 'v_measure_score', 'version', 'visualkeras', 'webcolors', 'zero_one_loss']\n"
     ]
    }
   ],
   "source": [
    "import nbimporter\n",
    "import import_ipynb\n",
    "import os, sys\n",
    "\n",
    "\n",
    "def add_path_to_sys(path):\n",
    "    module_path = os.path.abspath(path)\n",
    "    if module_path not in sys.path:\n",
    "        sys.path.append(module_path)\n",
    "\n",
    "usePath = os.path.join(r'c:', os.sep,'Users','scrwh','Documents','PythonScripts')\n",
    "add_path_to_sys(usePath)\n",
    "\n",
    "import Functions\n",
    "from Functions import *\n",
    "\n",
    "from ModelsListDiffFuntions import *\n",
    "\n",
    "# List all the functions defined in the other notebook\n",
    "print(dir(Functions))\n",
    "\n",
    "\n",
    "print(dir(ModelsListDiffFuntions))"
   ]
  },
  {
   "cell_type": "code",
   "execution_count": 2,
   "id": "ef08fc18-d7d4-486f-9feb-a45868bd6818",
   "metadata": {},
   "outputs": [],
   "source": [
    "# C:\\Users\\scrwh\\Documents\\PythonScripts\\Master_Thesis\\Function\\Synthetic_data\\downloaded_images\n",
    "data_folder = os.path.join('..','..','Master_Thesis', 'Function', 'Synthetic_data','downloaded_images')\n",
    "output_folder = os.path.join('..','..','Master_Thesis', 'Function', 'Synthetic_data','downloaded_img')"
   ]
  },
  {
   "cell_type": "code",
   "execution_count": 3,
   "id": "c6bf690c-7858-4f4b-8bac-f43b7c08921d",
   "metadata": {},
   "outputs": [],
   "source": [
    "FolderTree(data_folder)"
   ]
  },
  {
   "cell_type": "code",
   "execution_count": null,
   "id": "a608701b-402f-4551-8473-d3ad2c489277",
   "metadata": {},
   "outputs": [],
   "source": [
    "get_file_list(data_folder)"
   ]
  },
  {
   "cell_type": "code",
   "execution_count": 9,
   "id": "3be7e190-db14-481f-8c04-57953a3ad7ad",
   "metadata": {},
   "outputs": [],
   "source": [
    "from tqdm import tqdm\n",
    "\n",
    "def resize_images(input_dir, new_size=244, output_dir='resized_images', quality=95, allowed_extensions=None):\n",
    "    input_dir = os.path.abspath(input_dir).replace(\"\\\\\", \"/\")\n",
    "    output_dir = os.path.abspath(output_dir).replace(\"\\\\\", \"/\")\n",
    "\n",
    "    # Create the output directory if it does not exist\n",
    "    if not os.path.exists(output_dir):\n",
    "        os.makedirs(output_dir)\n",
    "    if allowed_extensions is None:\n",
    "        allowed_extensions = set(['.jpg', '.jpeg', '.png'])\n",
    "\n",
    "    images = [entry for entry in os.scandir(input_dir) if entry.is_file() and entry.name.lower().endswith(tuple(allowed_extensions))]\n",
    "    with tqdm(total=len(images), desc=\"Resizing images\", unit=\"file\", leave=False) as pbar:\n",
    "        for entry in images:\n",
    "            output_file_path = os.path.join(output_dir, f\"{entry.name}\")\n",
    "\n",
    "            # Check if the file already exists in the output directory\n",
    "            if os.path.exists(output_file_path):\n",
    "                pbar.update(1)\n",
    "                continue\n",
    "\n",
    "            # Resize the image\n",
    "            img = Image.open(entry.path)\n",
    "            if img.mode == \"P\":\n",
    "                img = img.convert(\"RGB\")\n",
    "            wpercent = (new_size / float(img.size[0]))\n",
    "            hsize = int((float(img.size[1]) * float(wpercent)))\n",
    "            resized_img = img.resize((new_size, new_size), resample=Image.Resampling.LANCZOS)\n",
    "\n",
    "            # Save the resized image in the corresponding subdirectory of the output directory\n",
    "            resized_img.save(output_file_path, quality=quality)\n",
    "            pbar.update(1)\n",
    "\n",
    "    # Recursively call the function on subdirectories\n",
    "    for entry in os.scandir(input_dir):\n",
    "        if entry.is_dir():\n",
    "            sub_input_dir = os.path.join(input_dir, entry.name).replace(\"\\\\\", \"/\")\n",
    "            sub_output_dir = os.path.join(output_dir, entry.name).replace(\"\\\\\", \"/\")\n",
    "            resize_images(sub_input_dir, sub_output_dir, quality=quality, new_size=new_size, allowed_extensions=allowed_extensions)\n"
   ]
  },
  {
   "cell_type": "code",
   "execution_count": 10,
   "id": "7f1a577a-d642-4a39-8376-08012600e015",
   "metadata": {},
   "outputs": [],
   "source": [
    "data_folder = os.path.join('..','..','Master_Thesis', 'data', 'data0')\n",
    "output_folder = os.path.join('..','..','Master_Thesis', 'data', 'data0b')"
   ]
  },
  {
   "cell_type": "code",
   "execution_count": null,
   "id": "d2b3af05-caae-4c76-9563-da14f70c6133",
   "metadata": {},
   "outputs": [],
   "source": [
    "resize_images(data_folder, new_width=244)"
   ]
  }
 ],
 "metadata": {
  "kernelspec": {
   "display_name": "Python 3 (ipykernel)",
   "language": "python",
   "name": "python3"
  },
  "language_info": {
   "codemirror_mode": {
    "name": "ipython",
    "version": 3
   },
   "file_extension": ".py",
   "mimetype": "text/x-python",
   "name": "python",
   "nbconvert_exporter": "python",
   "pygments_lexer": "ipython3",
   "version": "3.9.13"
  }
 },
 "nbformat": 4,
 "nbformat_minor": 5
}
