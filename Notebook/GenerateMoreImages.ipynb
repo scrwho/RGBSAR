{
 "cells": [
  {
   "cell_type": "code",
   "execution_count": 1,
   "id": "25df784f-21d6-4946-8159-b3555fc6f63d",
   "metadata": {},
   "outputs": [
    {
     "name": "stdout",
     "output_type": "stream",
     "text": [
      "['FolderTree', 'IMREAD_COLOR', 'IMREAD_UNCHANGED', 'Image', 'ImageDataGenerator', 'ImageFile', 'ModelsListDiffFuntions', 'Path', 'Pool', 'PureWindowsPath', 'RMSprop', 'StringIO', 'WindowsPath', '__builtins__', '__doc__', '__file__', '__loader__', '__name__', '__package__', '__spec__', 'accuracy_score', 'add_path_to_sys', 'classification_report', 'compress_layers', 'confusion_matrix', 'copy_and_open', 'cpu_count', 'cv2', 'datetime', 'display', 'display_one', 'get_file_list', 'get_file_list_imgs', 'get_image_paths', 'get_ipython', 'glob', 'gridspec', 'hashlib', 'image', 'import_ipynb', 'io', 'jsonize', 'la', 'laplace', 'loadImages', 'lru_cache', 'nbimporter', 'np', 'os', 'pd', 'platform', 'plt', 'print_dim_tuple', 'print_layers', 'processing', 'product', 'pywt', 'random', 'random_sample', 're', 'requests', 'resize', 'rgb2gray', 'sep', 'sequential_model_to_ascii_printout', 'shutil', 'sklearn', 'sns', 'splitfolders', 'sporco', 'struct', 'subprocess', 'tf', 'time', 'torch', 'tqdm', 'train_test_split', 'unicode_literals', 'variance', 'warnings']\n",
      "['AbstractRNNCell', 'Activation', 'ActivityRegularization', 'Adam', 'Add', 'AdditiveAttention', 'AlphaDropout', 'Attention', 'Average', 'AveragePooling1D', 'AveragePooling2D', 'AveragePooling3D', 'AvgPool1D', 'AvgPool2D', 'AvgPool3D', 'BatchNormalization', 'Bidirectional', 'CategoryEncoding', 'CenterCrop', 'Concatenate', 'ConfusionMatrixDisplay', 'Conv1D', 'Conv1DTranspose', 'Conv2D', 'Conv2DTranspose', 'Conv3D', 'Conv3DTranspose', 'ConvLSTM1D', 'ConvLSTM2D', 'ConvLSTM3D', 'Convolution1D', 'Convolution1DTranspose', 'Convolution2D', 'Convolution2DTranspose', 'Convolution3D', 'Convolution3DTranspose', 'Cropping1D', 'Cropping2D', 'Cropping3D', 'Dense', 'DenseFeatures', 'DepthwiseConv1D', 'DepthwiseConv2D', 'DetCurveDisplay', 'Discretization', 'DistanceMetric', 'Dot', 'Dropout', 'ELU', 'EarlyStopping', 'EinsumDense', 'Embedding', 'EvaluateTest', 'FileTree', 'Flatten', 'FolderTree', 'GPUtil', 'GRU', 'GRUCell', 'GaussianDropout', 'GaussianNoise', 'GlobalAveragePooling1D', 'GlobalAveragePooling2D', 'GlobalAveragePooling3D', 'GlobalAvgPool1D', 'GlobalAvgPool2D', 'GlobalAvgPool3D', 'GlobalMaxPool1D', 'GlobalMaxPool2D', 'GlobalMaxPool3D', 'GlobalMaxPooling1D', 'GlobalMaxPooling2D', 'GlobalMaxPooling3D', 'Hashing', 'Image', 'ImageDataGenerator', 'ImageFont', 'InceptionResNetV2', 'InceptionV3', 'Input', 'InputLayer', 'InputSpec', 'IntegerLookup', 'K', 'LSTM', 'LSTMCell', 'LabelBinarizer', 'Lambda', 'Layer', 'LayerNormalization', 'LeakyReLU', 'LearningRateScheduler', 'List', 'LocallyConnected1D', 'LocallyConnected2D', 'Masking', 'MaxPool1D', 'MaxPool2D', 'MaxPool3D', 'MaxPooling1D', 'MaxPooling2D', 'MaxPooling3D', 'Maximum', 'Minimum', 'Model', 'ModelCheckpoint', 'MultiHeadAttention', 'Multiply', 'Normalization', 'PReLU', 'Path', 'Permute', 'PrecisionRecallDisplay', 'PredictionErrorDisplay', 'RMSprop', 'RNN', 'RandomBrightness', 'RandomContrast', 'RandomCrop', 'RandomFlip', 'RandomHeight', 'RandomRotation', 'RandomTranslation', 'RandomWidth', 'RandomZoom', 'ReLU', 'ReduceLROnPlateau', 'RepeatVector', 'ResNet101', 'ResNet50', 'Rescaling', 'Reshape', 'Resizing', 'RocCurveDisplay', 'SCORERS', 'SGD', 'SeparableConv1D', 'SeparableConv2D', 'SeparableConvolution1D', 'SeparableConvolution2D', 'Sequential', 'SimpleRNN', 'SimpleRNNCell', 'Softmax', 'SpatialDropout1D', 'SpatialDropout2D', 'SpatialDropout3D', 'StackedRNNCells', 'StringLookup', 'Subtract', 'TextVectorization', 'ThresholdedReLU', 'TimeDistributed', 'Tuple', 'UnitNormalization', 'UpSampling1D', 'UpSampling2D', 'UpSampling3D', 'VGG16', 'Wrapper', 'ZeroPadding1D', 'ZeroPadding2D', 'ZeroPadding3D', '__builtins__', '__doc__', '__file__', '__loader__', '__name__', '__package__', '__spec__', 'accuracy_score', 'add', 'adjusted_mutual_info_score', 'adjusted_rand_score', 'auc', 'average', 'average_precision_score', 'balanced_accuracy_score', 'block_2ConvPool', 'block_Res', 'block_Unconv', 'brier_score_loss', 'calculate_batch_size_steps_per_epoch_and_epochs', 'calculate_batch_size_steps_per_epoch_and_epochsb', 'calculate_steps_per_epoch_and_epochs', 'calinski_harabasz_score', 'checkHistory', 'check_scoring', 'class_likelihood_ratios', 'classification_report', 'cluster', 'cm', 'cohen_kappa_score', 'colorsys', 'combinations', 'completeness_score', 'concatenate', 'confusion_matrix', 'consensus_score', 'coverage_error', 'custom_model', 'custom_modelB', 'cv2', 'd2_absolute_error_score', 'd2_pinball_score', 'd2_tweedie_score', 'datetime', 'davies_bouldin_score', 'dcg_score', 'deserialize', 'det_curve', 'detect_faults', 'detect_faults1', 'detect_faults2', 'detect_faults3', 'detect_faults4', 'detect_faults_images', 'detect_faultsdf', 'detect_faultsdfTrue', 'detect_faultsdfalone', 'detect_faultsdfaloneb', 'display', 'dot', 'euclidean_distances', 'evaluate_models', 'evaluate_models1b', 'evaluate_modelsb', 'evaluate_modelsb2b', 'experimental', 'explained_variance_score', 'f1_score', 'fbeta_score', 'file_count', 'fowlkes_mallows_score', 'gc', 'generate_colors', 'generate_data', 'generate_training_params', 'getModelName', 'get_file_list', 'get_image_paths', 'get_intel_gpu_memory', 'get_ipython', 'get_nvidia_gpu_memory', 'get_random_samples', 'get_scorer', 'get_scorer_names', 'get_system_memory', 'get_tpu_memory', 'go', 'graphviz', 'gridspec', 'hamming_loss', 'hinge_loss', 'homogeneity_completeness_v_measure', 'homogeneity_score', 'image', 'img_to_array', 'itertools', 'jaccard_score', 'keras', 'keras2ascii', 'label_binarize', 'label_ranking_average_precision_score', 'label_ranking_loss', 'load_data_generator', 'load_img', 'load_model', 'log_loss', 'make_scorer', 'make_subplots', 'math', 'matthews_corrcoef', 'max_error', 'maximum', 'mean_absolute_error', 'mean_absolute_percentage_error', 'mean_gamma_deviance', 'mean_pinball_loss', 'mean_poisson_deviance', 'mean_squared_error', 'mean_squared_log_error', 'mean_tweedie_deviance', 'median_absolute_error', 'minimum', 'mixed_precision', 'mpatches', 'mpimg', 'multilabel_confusion_matrix', 'multiply', 'mutual_info_score', 'nan_euclidean_distances', 'nc', 'ndcg_score', 'netCDF4', 'normalized_mutual_info_score', 'np', 'optimizers', 'os', 'ossep', 'pair_confusion_matrix', 'pairwise_distances', 'pairwise_distances_argmin', 'pairwise_distances_argmin_min', 'pairwise_distances_chunked', 'pairwise_kernels', 'pd', 'pickle', 'platform', 'plot_confusion_matrix', 'plot_confusion_matrixN', 'plot_image_grid', 'plot_model', 'plot_probability_distribution_and_roc_curves_one_vs_rest', 'plot_training_history', 'plot_training_historyB', 'plt', 'precision_recall_curve', 'precision_recall_fscore_support', 'precision_score', 'predictBar', 'predictBarColor', 'psutil', 'pynvml', 'pytest', 'r2_score', 'rand_score', 'random', 'random_sample', 'recall_score', 'regularizers', 'roc_auc_score', 'roc_curve', 'sample_list', 'serialize', 'silhouette_samples', 'silhouette_score', 'sns', 'subprocess', 'subtract', 'sys', 'tensorboard', 'tf', 'time', 'to_Conv', 'to_ConvConvRelu', 'to_ConvRes', 'to_ConvSoftMax', 'to_Pool', 'to_SoftMax', 'to_Sum', 'to_UnPool', 'to_begin', 'to_categorical', 'to_connection', 'to_cor', 'to_end', 'to_generate', 'to_head', 'to_input', 'to_skip', 'top_k_accuracy_score', 'tqdm', 'train_test_split', 'v_measure_score', 'version', 'visualkeras', 'webcolors', 'zero_one_loss']\n"
     ]
    }
   ],
   "source": [
    "import nbimporter\n",
    "import import_ipynb\n",
    "import os, sys\n",
    "\n",
    "\n",
    "def add_path_to_sys(path):\n",
    "    module_path = os.path.abspath(path)\n",
    "    if module_path not in sys.path:\n",
    "        sys.path.append(module_path)\n",
    "\n",
    "usePath = os.path.join(r'c:', os.sep,'Users','scrwh','Documents','PythonScripts')\n",
    "add_path_to_sys(usePath)\n",
    "\n",
    "import Functions\n",
    "from Functions import *\n",
    "\n",
    "from ModelsListDiffFuntions import *\n",
    "\n",
    "# List all the functions defined in the other notebook\n",
    "print(dir(Functions))\n",
    "\n",
    "\n",
    "print(dir(ModelsListDiffFuntions))"
   ]
  },
  {
   "cell_type": "code",
   "execution_count": 2,
   "id": "afcd9510-e104-4348-85d7-b98b6c9992b0",
   "metadata": {
    "tags": []
   },
   "outputs": [],
   "source": [
    "from PIL import Image, ImageOps, ImageEnhance, ImageFilter"
   ]
  },
  {
   "cell_type": "code",
   "execution_count": 3,
   "id": "d1582ed9-4d94-4eab-b755-447b13bb915e",
   "metadata": {},
   "outputs": [],
   "source": [
    "# # Don't use Cuda since it has limited memory\n",
    "# os.environ['CUDA_VISIBLE_DEVICES'] = '-1'\n",
    "# use Cuda\n",
    "os.environ['CUDA_VISIBLE_DEVICES'] = '0'"
   ]
  },
  {
   "cell_type": "raw",
   "id": "6c4be3fd-6d34-496b-989f-c24bf222ce04",
   "metadata": {},
   "source": [
    "import tensorflow as tf\n",
    "import tensorflow_hub as hub\n"
   ]
  },
  {
   "cell_type": "raw",
   "id": "1ca31f76-bee9-4ef5-82c0-8c6320c3b4fb",
   "metadata": {},
   "source": [
    "biggan = hub.load('../Models/biggan256')"
   ]
  },
  {
   "cell_type": "code",
   "execution_count": 4,
   "id": "54d2aebe-6de6-46e2-a7ba-cc72dbe22ead",
   "metadata": {},
   "outputs": [
    {
     "name": "stdout",
     "output_type": "stream",
     "text": [
      "Data/ (0 files)\n",
      "    Data1/ (9 files)\n",
      "    Datak/ (15 files)\n"
     ]
    }
   ],
   "source": [
    "FolderTree('Data')"
   ]
  },
  {
   "cell_type": "code",
   "execution_count": 7,
   "id": "f3f7e973-f7ba-4844-9cda-666e9008696b",
   "metadata": {},
   "outputs": [
    {
     "name": "stderr",
     "output_type": "stream",
     "text": [
      "100%|██████████| 200/200 [00:10<00:00, 19.41it/s]\n",
      "100%|██████████| 200/200 [01:23<00:00,  2.40it/s]\n"
     ]
    }
   ],
   "source": [
    "import os\n",
    "import random\n",
    "from PIL import Image, ImageOps, ImageEnhance, ImageFilter\n",
    "from tqdm import tqdm\n",
    "\n",
    "def generate_synthetic_images0(input_dir, output_dir, n=100):\n",
    "    \"\"\"\n",
    "    Generate synthetic images by applying random augmentations to input images.\n",
    "\n",
    "    Parameters:\n",
    "    input_dir (str): Path to the directory containing input images.\n",
    "    output_dir (str): Path to the directory where synthetic images will be saved.\n",
    "    n (int, optional): Number of synthetic images to generate. Defaults to 100.\n",
    "    \"\"\"\n",
    "\n",
    "    for subdir, _, files in os.walk(input_dir):\n",
    "        num_files = len(files)\n",
    "        if num_files == 0:\n",
    "            continue\n",
    "        \n",
    "        os.makedirs(os.path.join(output_dir, subdir), exist_ok=True)\n",
    "        \n",
    "        image_files = [file for file in files if file.lower().endswith(('.jpg', '.jpeg', '.png'))]\n",
    "        \n",
    "        if n >= num_files:\n",
    "            # Generate synthetic images with replacement\n",
    "            with tqdm(total=n, desc=subdir) as pbar:\n",
    "                for i in range(n):\n",
    "                    # Choose random input image with replacement\n",
    "                    input_file = random.choice(image_files)\n",
    "                    input_path = os.path.join(subdir, input_file)\n",
    "                    output_file = f\"synthetic_{i+1}.jpg\"\n",
    "                    output_path = os.path.join(output_dir, subdir, output_file)\n",
    "                    generate_synthetic_image0(input_path, output_path)\n",
    "                    pbar.update(1)\n",
    "        else:\n",
    "            # Generate synthetic images without replacement\n",
    "            input_files = random.sample(image_files, n)\n",
    "            with tqdm(total=n, desc=subdir) as pbar:\n",
    "                for i, input_file in enumerate(input_files):\n",
    "                    input_path = os.path.join(subdir, input_file)\n",
    "                    output_file = f\"synthetic_{i+1}.jpg\"\n",
    "                    output_path = os.path.join(output_dir, subdir, output_file)\n",
    "                    generate_synthetic_image0(input_path, output_path)\n",
    "                    pbar.update(1)\n",
    "\n",
    "def generate_synthetic_image0(input_path, output_path):\n",
    "    \"\"\"\n",
    "    Generate a synthetic image by applying random augmentations.\n",
    "\n",
    "    Parameters:\n",
    "    input_path (str): Path to the input image.\n",
    "    output_path (str): Path to save the synthetic image.\n",
    "    \"\"\"\n",
    "\n",
    "    image = Image.open(input_path)\n",
    "\n",
    "    # Convert to RGB mode if not already in RGB\n",
    "    if image.mode != \"RGB\":\n",
    "        image = image.convert(\"RGB\")\n",
    "\n",
    "    # Apply random augmentations\n",
    "    image = ImageOps.autocontrast(image)\n",
    "    image = ImageEnhance.Color(image).enhance(random.uniform(0.5, 1.5))\n",
    "    image = ImageEnhance.Brightness(image).enhance(random.uniform(0.5, 1.5))\n",
    "    image = ImageEnhance.Contrast(image).enhance(random.uniform(0.5, 1.5))\n",
    "    image = ImageEnhance.Sharpness(image).enhance(random.uniform(0.5, 1.5))\n",
    "    image = image.filter(ImageFilter.GaussianBlur(radius=random.uniform(0, 1)))\n",
    "    angle = random.uniform(-30, 30)\n",
    "    scale = random.uniform(0.8, 1.2)\n",
    "    image = image.rotate(angle, resample=Image.Resampling.BICUBIC, expand=True)\n",
    "    image = image.resize((int(scale * image.width), int(scale * image.height)), resample=Image.Resampling.BICUBIC)\n",
    "\n",
    "    # Save synthetic image\n",
    "    image.save(output_path)\n"
   ]
  },
  {
   "cell_type": "code",
   "execution_count": null,
   "id": "5498a7d1-3e7e-4a94-85a9-713e8e485b2d",
   "metadata": {},
   "outputs": [],
   "source": [
    "\n",
    "generate_synthetic_images0('Data', 'synthetic_images_data0', n=3000)"
   ]
  },
  {
   "cell_type": "code",
   "execution_count": 15,
   "id": "4d155f6d-98d7-4126-bc8e-a2153e766d0b",
   "metadata": {},
   "outputs": [
    {
     "name": "stdout",
     "output_type": "stream",
     "text": [
      "27000\n",
      "synthetic_images_data0/\n",
      "    0 file(s)\n",
      "    Fault_types/\n",
      "        0 file(s)\n",
      "        clean/\n",
      "            3000 file(s)\n",
      "        Cracks/\n",
      "            3000 file(s)\n",
      "        Delamination/\n",
      "            3000 file(s)\n",
      "        dirt/\n",
      "            3000 file(s)\n",
      "        Erosion/\n",
      "            3000 file(s)\n",
      "        Icing/\n",
      "            3000 file(s)\n",
      "        Lightning Damage/\n",
      "            3000 file(s)\n",
      "        rough_scratch/\n",
      "            3000 file(s)\n",
      "        Rust/\n",
      "            3000 file(s)\n"
     ]
    }
   ],
   "source": [
    "data_folder = 'synthetic_images_data0'\n",
    "\n",
    "print(len(get_file_list(data_folder)))\n",
    "\n",
    "FolderTree(data_folder)"
   ]
  }
 ],
 "metadata": {
  "kernelspec": {
   "display_name": "Python 3 (ipykernel)",
   "language": "python",
   "name": "python3"
  },
  "language_info": {
   "codemirror_mode": {
    "name": "ipython",
    "version": 3
   },
   "file_extension": ".py",
   "mimetype": "text/x-python",
   "name": "python",
   "nbconvert_exporter": "python",
   "pygments_lexer": "ipython3",
   "version": "3.9.13"
  }
 },
 "nbformat": 4,
 "nbformat_minor": 5
}
